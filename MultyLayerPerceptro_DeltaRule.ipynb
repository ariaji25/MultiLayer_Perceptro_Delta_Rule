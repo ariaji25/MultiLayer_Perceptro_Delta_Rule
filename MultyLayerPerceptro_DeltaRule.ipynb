{
  "nbformat": 4,
  "nbformat_minor": 0,
  "metadata": {
    "colab": {
      "name": "MultyLayerPerceptro_DeltaRule.ipynb",
      "provenance": [],
      "collapsed_sections": [],
      "include_colab_link": true
    },
    "kernelspec": {
      "name": "python3",
      "display_name": "Python 3"
    }
  },
  "cells": [
    {
      "cell_type": "markdown",
      "metadata": {
        "id": "view-in-github",
        "colab_type": "text"
      },
      "source": [
        "<a href=\"https://colab.research.google.com/github/ariaji25/MultiLayer_Perceptro_Delta_Rule/blob/master/MultyLayerPerceptro_DeltaRule.ipynb\" target=\"_parent\"><img src=\"https://colab.research.google.com/assets/colab-badge.svg\" alt=\"Open In Colab\"/></a>"
      ]
    },
    {
      "cell_type": "code",
      "metadata": {
        "id": "okVF0a8GBSqE",
        "colab_type": "code",
        "colab": {}
      },
      "source": [
        "import numpy as np\n",
        "\n",
        "x = np.array([\n",
        "    [1, 0, 0, 0, 1, 0],   \n",
        "    [0, 1, 1, 1, 1, 0],\n",
        "    [0, 0, 1, 0, 0, 1],\n",
        "    [0, 0, 1, 0, 1, 0],\n",
        "    [0, 1, 0, 0, 0, 1],\n",
        "    [1, 0, 1, 0, 1, 1],\n",
        "    [0, 0, 1, 1, 0, 0],\n",
        "    [0, 1, 0, 1, 0, 0],\n",
        "    [1, 0, 0, 1, 0, 1],\n",
        "    [0, 1, 1, 1, 1, 1]\n",
        "])\n",
        "# 1 = A, 0= B\n",
        "clas = np.array([1, 0, 1, 1, 1, 1, 0, 0, 0, 0])"
      ],
      "execution_count": 0,
      "outputs": []
    },
    {
      "cell_type": "markdown",
      "metadata": {
        "id": "kKY76c-1V4Ir",
        "colab_type": "text"
      },
      "source": [
        "Kode di atas berfungsi untuk menginisialisasi data berupa inputan \"x\" dan label classifikasi nya \"clas\""
      ]
    },
    {
      "cell_type": "code",
      "metadata": {
        "id": "QmsE5eD3FOsO",
        "colab_type": "code",
        "colab": {}
      },
      "source": [
        "import random\n",
        "w = np.zeros(6)\n",
        "for i in range(len(w)):\n",
        "  w[i] = random.uniform(0, 0.8)\n",
        "  \n",
        "w1 = np.zeros(6)\n",
        "for i in range(len(w1)):\n",
        "  w1[i] =random.uniform(0, 0.8)\n",
        "\n",
        "w2 = np.zeros(2)\n",
        "for i in range(len(w2)):\n",
        "  w2[i]= random.uniform(0, 0.8)"
      ],
      "execution_count": 0,
      "outputs": []
    },
    {
      "cell_type": "markdown",
      "metadata": {
        "id": "t86BcxJKWI1-",
        "colab_type": "text"
      },
      "source": [
        "kode di atas berfungsi untuk menginisialisasi nilai weight untuk masing masing node. w untuk node 1 di hiden layer, w1 untuk node 2 di hiden layer, w2 untuk node ke output layer"
      ]
    },
    {
      "cell_type": "code",
      "metadata": {
        "id": "EXpU7t0EFUbD",
        "colab_type": "code",
        "colab": {}
      },
      "source": [
        "def countYin(yin, win):\n",
        "  result =0.0\n",
        "  for i in range(len(yin)):\n",
        "    result+= yin[i] * win[i]\n",
        "  return (result)\n",
        "\n",
        "def sumfunction(xin, w):\n",
        "  result = 0.0\n",
        "  for i in range(len(xin)):\n",
        "    result+=xin[i]*w[i]\n",
        "  return result\n",
        "\n",
        "def activation(yin):\n",
        "  if(yin<0.5):\n",
        "    return 0\n",
        "  else:\n",
        "    return 1\n",
        "  \n",
        "def trainingModel(w,xin, t):\n",
        "  a = countYin(xin, w)\n",
        "  y = activation(a)\n",
        "  d = t - y\n",
        "  for i in range(len(w)):\n",
        "    w[i] = w[i]+ (0.2 * xin[i] *d)\n",
        "  return w\n",
        "  "
      ],
      "execution_count": 0,
      "outputs": []
    },
    {
      "cell_type": "markdown",
      "metadata": {
        "id": "SvrhYsBtWdtW",
        "colab_type": "text"
      },
      "source": [
        "kode di atas merupakan daftar fungsi yang diperlukan untuk delta rule learning, \"countYin\" berfungsi untuk menghitung y_in pada rumus delta rule, fungsi \"sumfunction\" berfungsi untuk melakukan fungsi sum pada node/ perceptron, fungsi \"activation\" berfungsi untuk melakukan activation function pada node/perceptron, fungsi \"trainingModel\" berfungsi untuk melakukan  delta rule learning."
      ]
    },
    {
      "cell_type": "code",
      "metadata": {
        "id": "Gn3TNVw7ICRW",
        "colab_type": "code",
        "colab": {}
      },
      "source": [
        "def train(w, x, clas):\n",
        "  c = 0\n",
        "  for inputX in x:\n",
        "    w = trainingModel(w, inputX, clas[c])\n",
        "    c+=1"
      ],
      "execution_count": 0,
      "outputs": []
    },
    {
      "cell_type": "markdown",
      "metadata": {
        "id": "KV_I-1sFXRhe",
        "colab_type": "text"
      },
      "source": [
        "Kode di atas merupakan sebuah fungsi berfungsi untuk menjalankan delta rule learning model untuk setiap inputan "
      ]
    },
    {
      "cell_type": "code",
      "metadata": {
        "id": "KCke4bVkIHz6",
        "colab_type": "code",
        "colab": {}
      },
      "source": [
        "\n",
        "def learning(w,x,clas):\n",
        "  c = 0\n",
        "  train(w,x,clas)\n",
        "  for inputX in x:\n",
        "    rc = sumfunction(inputX, w)\n",
        "    pr = activation(rc)\n",
        "    error = clas[c] - pr\n",
        "    if(error!=0):\n",
        "      learning(w,x,clas)\n",
        "    c+=1\n",
        "\n",
        "\n"
      ],
      "execution_count": 0,
      "outputs": []
    },
    {
      "cell_type": "markdown",
      "metadata": {
        "id": "NvhbLNVNXYZn",
        "colab_type": "text"
      },
      "source": [
        "Kode di atas merupakan sebuah fungsi untuk melakukan delta rule learning model untuk inputan dan weight sampai memenuhi error == 0"
      ]
    },
    {
      "cell_type": "code",
      "metadata": {
        "id": "MDAWvitJKWTl",
        "colab_type": "code",
        "outputId": "cf0dbd13-2f61-4f9f-eabf-5740cc42cd74",
        "colab": {
          "base_uri": "https://localhost:8080/",
          "height": 102
        }
      },
      "source": [
        "# learning for 2 hiden layer\n",
        "learning(w,x,clas)\n",
        "learning(w1,x,clas)\n",
        "# learning for the last node\n",
        "newx = []\n",
        "newclas = []\n",
        "c=0\n",
        "for inputX in x:\n",
        "  rc = sumfunction(inputX, w)\n",
        "  pr = activation(rc)\n",
        "  rc1 = sumfunction(inputX, w1)\n",
        "  pr1 = activation(rc1)\n",
        "  newx.append([pr,pr1])\n",
        "  newclas.append(clas[c])\n",
        "  c+=1\n",
        "learning(w2,newx, newclas)\n",
        "\n",
        "# result for w,w1,w2\n",
        "w,w1,w2"
      ],
      "execution_count": 8,
      "outputs": [
        {
          "output_type": "execute_result",
          "data": {
            "text/plain": [
              "(array([ 0.47486156,  0.14556559,  0.23493359, -0.83157605,  0.27078397,\n",
              "         0.54133821]),\n",
              " array([ 0.70127513,  0.34204974,  0.54802019, -1.17704696,  0.16863751,\n",
              "         0.42000858]),\n",
              " array([0.07866285, 0.67497602]))"
            ]
          },
          "metadata": {
            "tags": []
          },
          "execution_count": 8
        }
      ]
    },
    {
      "cell_type": "markdown",
      "metadata": {
        "id": "mIrth5cXXxgC",
        "colab_type": "text"
      },
      "source": [
        "kode di atas berfungsi untuk melakukan training pada setipa node pada struktur ANN Multi Layer Perceptron (Delta Rule)"
      ]
    },
    {
      "cell_type": "code",
      "metadata": {
        "id": "HoZdIKT6KiRE",
        "colab_type": "code",
        "outputId": "4a31d347-adf7-46f4-b0a9-8c1542fdc83d",
        "colab": {
          "base_uri": "https://localhost:8080/",
          "height": 867
        }
      },
      "source": [
        "print(x)\n",
        "c = 0\n",
        "def showClas(y):\n",
        "  if(y==0):\n",
        "    return \"B\"\n",
        "  else:\n",
        "    return \"A\"\n",
        "  \n",
        "for inputX in x:\n",
        "#   doing sum and activ function for node1 in hiden layer\n",
        "  rc = sumfunction(inputX, w)\n",
        "  pr = activation(rc)\n",
        "  \n",
        "#   doing sum and activ function for node2 in hiden layer\n",
        "  rc1 = sumfunction(inputX, w1)\n",
        "  pr1 = activation(rc1)\n",
        "  \n",
        "#   doing sum and activ function for node to output layer\n",
        "  sumres = sumfunction([pr,pr1], w2)\n",
        "  pred = activation(sumres)\n",
        "  error = pred - clas[c]\n",
        "  print(\"Input = \", inputX)\n",
        "  print(\"predict : \", showClas(pr))\n",
        "  print(\"expected : \", showClas(clas[c]))\n",
        "  print(\"error : \",error)\n",
        "  c+=1\n",
        " "
      ],
      "execution_count": 11,
      "outputs": [
        {
          "output_type": "stream",
          "text": [
            "[[1 0 0 0 1 0]\n",
            " [0 1 1 1 1 0]\n",
            " [0 0 1 0 0 1]\n",
            " [0 0 1 0 1 0]\n",
            " [0 1 0 0 0 1]\n",
            " [1 0 1 0 1 1]\n",
            " [0 0 1 1 0 0]\n",
            " [0 1 0 1 0 0]\n",
            " [1 0 0 1 0 1]\n",
            " [0 1 1 1 1 1]]\n",
            "Input =  [1 0 0 0 1 0]\n",
            "predict :  A\n",
            "expected :  A\n",
            "error :  0\n",
            "Input =  [0 1 1 1 1 0]\n",
            "predict :  B\n",
            "expected :  B\n",
            "error :  0\n",
            "Input =  [0 0 1 0 0 1]\n",
            "predict :  A\n",
            "expected :  A\n",
            "error :  0\n",
            "Input =  [0 0 1 0 1 0]\n",
            "predict :  A\n",
            "expected :  A\n",
            "error :  0\n",
            "Input =  [0 1 0 0 0 1]\n",
            "predict :  A\n",
            "expected :  A\n",
            "error :  0\n",
            "Input =  [1 0 1 0 1 1]\n",
            "predict :  A\n",
            "expected :  A\n",
            "error :  0\n",
            "Input =  [0 0 1 1 0 0]\n",
            "predict :  B\n",
            "expected :  B\n",
            "error :  0\n",
            "Input =  [0 1 0 1 0 0]\n",
            "predict :  B\n",
            "expected :  B\n",
            "error :  0\n",
            "Input =  [1 0 0 1 0 1]\n",
            "predict :  B\n",
            "expected :  B\n",
            "error :  0\n",
            "Input =  [0 1 1 1 1 1]\n",
            "predict :  B\n",
            "expected :  B\n",
            "error :  0\n"
          ],
          "name": "stdout"
        }
      ]
    },
    {
      "cell_type": "markdown",
      "metadata": {
        "id": "XxpvP3VAX9Gz",
        "colab_type": "text"
      },
      "source": [
        "Kode di atas berfungsi untuk mencoba melakukan clasifikasi untuk setiap inputan"
      ]
    },
    {
      "cell_type": "code",
      "metadata": {
        "id": "oVCRqZ3UTD0p",
        "colab_type": "code",
        "colab": {}
      },
      "source": [
        ""
      ],
      "execution_count": 0,
      "outputs": []
    }
  ]
}